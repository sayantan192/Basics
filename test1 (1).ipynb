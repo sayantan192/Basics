{
  "nbformat": 4,
  "nbformat_minor": 0,
  "metadata": {
    "colab": {
      "provenance": []
    },
    "kernelspec": {
      "name": "python3",
      "display_name": "Python 3"
    },
    "language_info": {
      "name": "python"
    }
  },
  "cells": [
    {
      "cell_type": "code",
      "execution_count": null,
      "metadata": {
        "colab": {
          "base_uri": "https://localhost:8080/"
        },
        "id": "S3biOcUNo7i0",
        "outputId": "6ad2a7bc-b287-4e32-9368-0c4bb4be175c"
      },
      "outputs": [
        {
          "output_type": "stream",
          "name": "stdout",
          "text": [
            "6\n",
            "7\n",
            "9\n"
          ]
        }
      ],
      "source": [
        "p,q,n = 6,7,9\n",
        "print (p)\n",
        "print (q)\n",
        "print(n)"
      ]
    },
    {
      "cell_type": "code",
      "source": [
        "x=y=z=12\n",
        "print (x)\n",
        "print (y)\n",
        "print (z)"
      ],
      "metadata": {
        "colab": {
          "base_uri": "https://localhost:8080/"
        },
        "id": "_FZEp8JEpZWR",
        "outputId": "24d21ecc-e090-468e-ca2f-5ea486146612"
      },
      "execution_count": null,
      "outputs": [
        {
          "output_type": "stream",
          "name": "stdout",
          "text": [
            "12\n",
            "12\n",
            "12\n"
          ]
        }
      ]
    },
    {
      "cell_type": "code",
      "source": [
        "s, t, r = \"big\", \"ball\", \"throw\"\n",
        "My_var= s+t\n",
        "print (My_var)"
      ],
      "metadata": {
        "colab": {
          "base_uri": "https://localhost:8080/"
        },
        "id": "1SYEOwDwptBu",
        "outputId": "404bd9d2-49b5-4bb6-a9dc-31560babecd0"
      },
      "execution_count": null,
      "outputs": [
        {
          "output_type": "stream",
          "name": "stdout",
          "text": [
            "bigball\n"
          ]
        }
      ]
    },
    {
      "cell_type": "code",
      "source": [
        "x=1 #integer\n",
        "y=8.99 #float\n",
        "z=8j #complex number\n",
        "print (type(x))\n",
        "print (type(z))"
      ],
      "metadata": {
        "id": "hpiluAdJqVU-",
        "colab": {
          "base_uri": "https://localhost:8080/"
        },
        "outputId": "69ba55a1-aa81-4b19-e797-c7446881f480"
      },
      "execution_count": null,
      "outputs": [
        {
          "output_type": "stream",
          "name": "stdout",
          "text": [
            "<class 'int'>\n",
            "<class 'complex'>\n"
          ]
        }
      ]
    },
    {
      "cell_type": "code",
      "source": [
        "u=6\n",
        "p=float(u)\n",
        "print(u)"
      ],
      "metadata": {
        "colab": {
          "base_uri": "https://localhost:8080/"
        },
        "id": "vGZLnnzktxda",
        "outputId": "f620084c-04ba-425c-9e4a-4f513f377c66"
      },
      "execution_count": null,
      "outputs": [
        {
          "output_type": "stream",
          "name": "stdout",
          "text": [
            "6\n"
          ]
        }
      ]
    },
    {
      "cell_type": "code",
      "source": [
        "q=complex(y)\n",
        "q=complex(y)\n",
        "print(q)"
      ],
      "metadata": {
        "colab": {
          "base_uri": "https://localhost:8080/"
        },
        "id": "ffSk_c3uuB3e",
        "outputId": "5b4a53d7-d4c6-4b34-e693-a1b3fc3d999c"
      },
      "execution_count": null,
      "outputs": [
        {
          "output_type": "stream",
          "name": "stdout",
          "text": [
            "(8.99+0j)\n"
          ]
        }
      ]
    },
    {
      "cell_type": "code",
      "source": [
        "#create an array using python\n",
        "my_array=[1,2,3,4,5,6,7,8]\n",
        "print(my_array)"
      ],
      "metadata": {
        "colab": {
          "base_uri": "https://localhost:8080/"
        },
        "id": "FWTk1ZNUujLr",
        "outputId": "dd78c045-0c5d-4697-8509-2e9981e51177"
      },
      "execution_count": null,
      "outputs": [
        {
          "output_type": "stream",
          "name": "stdout",
          "text": [
            "[1, 2, 3, 4, 5, 6, 7, 8]\n"
          ]
        }
      ]
    },
    {
      "cell_type": "code",
      "source": [
        "celsius = float(50)\n",
        "print(f\"{celsius}°C is equal to {fahrenheit}°F\")\n"
      ],
      "metadata": {
        "colab": {
          "base_uri": "https://localhost:8080/"
        },
        "id": "vNorUazt2Bj6",
        "outputId": "fdc28942-0f73-45c0-a2e7-dc73cce475b4"
      },
      "execution_count": null,
      "outputs": [
        {
          "output_type": "stream",
          "name": "stdout",
          "text": [
            "50.0°C is equal to 35.6°F\n"
          ]
        }
      ]
    },
    {
      "cell_type": "code",
      "source": [
        "from typing import Final\n",
        "a1=[1,3,5,4,6,7]\n",
        "a2=[3,5,9,1,0,5]\n",
        "b=a1+a2\n",
        "print(b)"
      ],
      "metadata": {
        "colab": {
          "base_uri": "https://localhost:8080/"
        },
        "id": "6bjr5Dfy3mUC",
        "outputId": "3563229a-cc13-430a-ab1f-e801013ec186"
      },
      "execution_count": null,
      "outputs": [
        {
          "output_type": "stream",
          "name": "stdout",
          "text": [
            "[1, 3, 5, 4, 6, 7, 3, 5, 9, 1, 0, 5]\n"
          ]
        }
      ]
    },
    {
      "cell_type": "code",
      "source": [
        "x,y=2,5\n",
        "print(x+y)\n",
        "print(x-y)\n",
        "print(x*y)\n",
        "print(x/y)\n",
        "print(x%y)  #modulus\n",
        "print(x**y) #exponential"
      ],
      "metadata": {
        "colab": {
          "base_uri": "https://localhost:8080/"
        },
        "id": "w3Z22xwq4jW8",
        "outputId": "fc4e3370-27bf-4855-8da7-d2ea0b30ba8f"
      },
      "execution_count": null,
      "outputs": [
        {
          "output_type": "stream",
          "name": "stdout",
          "text": [
            "7\n",
            "-3\n",
            "10\n",
            "0.4\n",
            "2\n",
            "32\n"
          ]
        }
      ]
    },
    {
      "cell_type": "code",
      "source": [
        "s=34\n",
        "s+=11\n",
        "\n",
        "print (s)\n",
        "s-=30\n",
        "print (s)"
      ],
      "metadata": {
        "colab": {
          "base_uri": "https://localhost:8080/"
        },
        "id": "V3lv0QCg5mqo",
        "outputId": "36619c69-dbac-4feb-f7d1-847d793bb9d8"
      },
      "execution_count": null,
      "outputs": [
        {
          "output_type": "stream",
          "name": "stdout",
          "text": [
            "45\n",
            "15\n"
          ]
        }
      ]
    },
    {
      "cell_type": "code",
      "source": [
        "#matrix operation\n",
        "import numpy as np\n",
        "array1= np.array([[1,2,4,2,5], [4,7,9,6,1]]) #array must be put\n",
        "print(array1)"
      ],
      "metadata": {
        "colab": {
          "base_uri": "https://localhost:8080/"
        },
        "id": "GhYL-lvO6Dd4",
        "outputId": "5aabeef5-0b99-4739-e26c-38aa191d81af"
      },
      "execution_count": null,
      "outputs": [
        {
          "output_type": "stream",
          "name": "stdout",
          "text": [
            "[[1 2 4 2 5]\n",
            " [4 7 9 6 1]]\n"
          ]
        }
      ]
    },
    {
      "cell_type": "code",
      "source": [
        "array1 [0,2] #1st row x 3rd cloumn (starts with 0)\n"
      ],
      "metadata": {
        "colab": {
          "base_uri": "https://localhost:8080/"
        },
        "id": "pXND_LR2ztxG",
        "outputId": "054be5ab-dedb-466d-fa46-12642be58f1c"
      },
      "execution_count": null,
      "outputs": [
        {
          "output_type": "execute_result",
          "data": {
            "text/plain": [
              "4"
            ]
          },
          "metadata": {},
          "execution_count": 11
        }
      ]
    },
    {
      "cell_type": "code",
      "source": [
        "array1 [1,2]"
      ],
      "metadata": {
        "colab": {
          "base_uri": "https://localhost:8080/"
        },
        "id": "S6qdV72P1zan",
        "outputId": "b218df14-e1d5-40b3-ae47-9f5f175b93c0"
      },
      "execution_count": null,
      "outputs": [
        {
          "output_type": "execute_result",
          "data": {
            "text/plain": [
              "9"
            ]
          },
          "metadata": {},
          "execution_count": 12
        }
      ]
    },
    {
      "cell_type": "code",
      "source": [
        "array1[1,4]"
      ],
      "metadata": {
        "colab": {
          "base_uri": "https://localhost:8080/"
        },
        "id": "wM6Q9Hvt13b5",
        "outputId": "1f9be993-2659-49fe-c5cc-d0702483831b"
      },
      "execution_count": null,
      "outputs": [
        {
          "output_type": "execute_result",
          "data": {
            "text/plain": [
              "1"
            ]
          },
          "metadata": {},
          "execution_count": 13
        }
      ]
    },
    {
      "cell_type": "code",
      "source": [
        "#matrix operation\n",
        "p=np.array([[1,2,3],[4,5,6]])\n",
        "q=np.array([[2,7,6],[1,2,5]])\n",
        "print(p)\n",
        "print(q)\n"
      ],
      "metadata": {
        "colab": {
          "base_uri": "https://localhost:8080/"
        },
        "id": "vVALe-n12IgD",
        "outputId": "8abbd6e6-8222-48b2-e1db-d5f3008fc816"
      },
      "execution_count": null,
      "outputs": [
        {
          "output_type": "stream",
          "name": "stdout",
          "text": [
            "[[1 2 3]\n",
            " [4 5 6]]\n",
            "[[2 7 6]\n",
            " [1 2 5]]\n"
          ]
        }
      ]
    },
    {
      "cell_type": "code",
      "source": [
        "p=np.array([[1,2,3],[4,5,6]]) #matrix addition\n",
        "q=np.array([[2,7,6],[1,2,5]])\n",
        "print(p)\n",
        "print(q)\n",
        "print(np.add(p,q))"
      ],
      "metadata": {
        "colab": {
          "base_uri": "https://localhost:8080/"
        },
        "id": "_gTxX7ER_mFb",
        "outputId": "d18dcf77-e35c-4807-b0cd-a1f235883d15"
      },
      "execution_count": null,
      "outputs": [
        {
          "output_type": "stream",
          "name": "stdout",
          "text": [
            "[[1 2 3]\n",
            " [4 5 6]]\n",
            "[[2 7 6]\n",
            " [1 2 5]]\n",
            "[[ 3  9  9]\n",
            " [ 5  7 11]]\n"
          ]
        }
      ]
    },
    {
      "cell_type": "code",
      "source": [
        "p=np.array([[1,2,3],[4,5,6]]) #matrix subtract\n",
        "q=np.array([[2,7,6],[1,2,5]])\n",
        "print(p)\n",
        "print(q)\n",
        "print(np.subtract(p,q))"
      ],
      "metadata": {
        "colab": {
          "base_uri": "https://localhost:8080/"
        },
        "id": "3EJOkr5q_4Gu",
        "outputId": "aa58ee08-ec2a-4485-91d2-baa536ef4365"
      },
      "execution_count": null,
      "outputs": [
        {
          "output_type": "stream",
          "name": "stdout",
          "text": [
            "[[1 2 3]\n",
            " [4 5 6]]\n",
            "[[2 7 6]\n",
            " [1 2 5]]\n",
            "[[-1 -5 -3]\n",
            " [ 3  3  1]]\n"
          ]
        }
      ]
    },
    {
      "cell_type": "code",
      "source": [
        "p=np.array([[1,2,3],[4,5,6]]) #matrix multiply\n",
        "q=np.array([[2,7,6],[1,2,5]])\n",
        "print(p)\n",
        "print(q)\n",
        "print(np.multiply(p,q))"
      ],
      "metadata": {
        "colab": {
          "base_uri": "https://localhost:8080/"
        },
        "id": "eRIYay81AGr1",
        "outputId": "2a6671fe-0fe9-40b6-e6e4-657ff5598b45"
      },
      "execution_count": null,
      "outputs": [
        {
          "output_type": "stream",
          "name": "stdout",
          "text": [
            "[[1 2 3]\n",
            " [4 5 6]]\n",
            "[[2 7 6]\n",
            " [1 2 5]]\n",
            "[[ 2 14 18]\n",
            " [ 4 10 30]]\n"
          ]
        }
      ]
    },
    {
      "cell_type": "code",
      "source": [
        "p=np.array([[1,2,3],[4,5,6]]) #matrix divison\n",
        "q=np.array([[2,7,6],[1,2,5]])\n",
        "print(p)\n",
        "print(q)\n",
        "print(np.divide(p,q))"
      ],
      "metadata": {
        "colab": {
          "base_uri": "https://localhost:8080/"
        },
        "id": "wF9fCnqVAMsg",
        "outputId": "3905c7cb-1290-468b-f00f-47630b9de620"
      },
      "execution_count": null,
      "outputs": [
        {
          "output_type": "stream",
          "name": "stdout",
          "text": [
            "[[1 2 3]\n",
            " [4 5 6]]\n",
            "[[2 7 6]\n",
            " [1 2 5]]\n",
            "[[0.5        0.28571429 0.5       ]\n",
            " [4.         2.5        1.2       ]]\n"
          ]
        }
      ]
    },
    {
      "cell_type": "code",
      "source": [
        "celsius= 97.2\n",
        "fahrenheit= (celsius * 1.8)+ 32\n",
        "print(f\"{celsius}° celsius is equal to {fahrenheit}° fahrenheit\")"
      ],
      "metadata": {
        "colab": {
          "base_uri": "https://localhost:8080/"
        },
        "id": "QsfuLlI3Dpl0",
        "outputId": "d93caf86-1c5b-45f7-b577-7ac1af0fb216"
      },
      "execution_count": null,
      "outputs": [
        {
          "output_type": "stream",
          "name": "stdout",
          "text": [
            "97.2° celsius is equal to 206.96° fahrenheit\n"
          ]
        }
      ]
    },
    {
      "cell_type": "code",
      "source": [],
      "metadata": {
        "id": "lpI3RKqQGigM"
      },
      "execution_count": null,
      "outputs": []
    }
  ]
}